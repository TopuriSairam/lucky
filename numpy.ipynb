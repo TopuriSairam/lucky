{
 "cells": [
  {
   "cell_type": "code",
   "execution_count": 1,
   "id": "65b248a7",
   "metadata": {},
   "outputs": [],
   "source": [
    "from numpy import *\n"
   ]
  },
  {
   "cell_type": "code",
   "execution_count": 3,
   "id": "53641574",
   "metadata": {},
   "outputs": [],
   "source": [
    "arr=array([1,2,3,4,5])"
   ]
  },
  {
   "cell_type": "code",
   "execution_count": 5,
   "id": "fba1c0dc",
   "metadata": {},
   "outputs": [
    {
     "name": "stdout",
     "output_type": "stream",
     "text": [
      "int32\n"
     ]
    }
   ],
   "source": [
    "print(arr.dtype)"
   ]
  },
  {
   "cell_type": "code",
   "execution_count": 7,
   "id": "39c87184",
   "metadata": {},
   "outputs": [],
   "source": [
    "arr=linspace(0,15,16)"
   ]
  },
  {
   "cell_type": "code",
   "execution_count": 8,
   "id": "da0542f6",
   "metadata": {},
   "outputs": [
    {
     "name": "stdout",
     "output_type": "stream",
     "text": [
      "[ 0.  1.  2.  3.  4.  5.  6.  7.  8.  9. 10. 11. 12. 13. 14. 15.]\n"
     ]
    }
   ],
   "source": [
    "print(arr)"
   ]
  },
  {
   "cell_type": "code",
   "execution_count": 9,
   "id": "35bd2d6d",
   "metadata": {},
   "outputs": [],
   "source": [
    "arr1=array([1,2,3,4,5])"
   ]
  },
  {
   "cell_type": "code",
   "execution_count": 10,
   "id": "83b3662b",
   "metadata": {},
   "outputs": [],
   "source": [
    "arr2=array([6,2,7,4,9])"
   ]
  },
  {
   "cell_type": "code",
   "execution_count": 11,
   "id": "b34e5d3b",
   "metadata": {},
   "outputs": [
    {
     "name": "stdout",
     "output_type": "stream",
     "text": [
      "[1 2 3 4 5 6 2 7 4 9]\n"
     ]
    }
   ],
   "source": [
    "print(concatenate([arr1,arr2]))"
   ]
  },
  {
   "cell_type": "code",
   "execution_count": null,
   "id": "582bceb5",
   "metadata": {},
   "outputs": [],
   "source": [
    "from numpy import *"
   ]
  },
  {
   "cell_type": "code",
   "execution_count": 14,
   "id": "7b63954b",
   "metadata": {},
   "outputs": [],
   "source": [
    "arr1=array([\n",
    "            \n",
    "              [1,2,5,6,8,9],\n",
    "              [4,6,8,9,7,5]\n",
    "     \n",
    "    \n",
    "    \n",
    "         ])"
   ]
  },
  {
   "cell_type": "code",
   "execution_count": 27,
   "id": "fc394cd9",
   "metadata": {},
   "outputs": [],
   "source": [
    "arr2= arr1.flatten()"
   ]
  },
  {
   "cell_type": "code",
   "execution_count": 33,
   "id": "46ea53a4",
   "metadata": {},
   "outputs": [
    {
     "ename": "ValueError",
     "evalue": "cannot reshape array of size 5 into shape (3,4)",
     "output_type": "error",
     "traceback": [
      "\u001b[1;31m---------------------------------------------------------------------------\u001b[0m",
      "\u001b[1;31mValueError\u001b[0m                                Traceback (most recent call last)",
      "\u001b[1;32m<ipython-input-33-8f9884e2bca6>\u001b[0m in \u001b[0;36m<module>\u001b[1;34m\u001b[0m\n\u001b[1;32m----> 1\u001b[1;33m \u001b[0marr3\u001b[0m\u001b[1;33m=\u001b[0m \u001b[0marr2\u001b[0m\u001b[1;33m.\u001b[0m\u001b[0mreshape\u001b[0m\u001b[1;33m(\u001b[0m\u001b[1;36m3\u001b[0m\u001b[1;33m,\u001b[0m\u001b[1;36m4\u001b[0m\u001b[1;33m)\u001b[0m\u001b[1;33m\u001b[0m\u001b[1;33m\u001b[0m\u001b[0m\n\u001b[0m",
      "\u001b[1;31mValueError\u001b[0m: cannot reshape array of size 5 into shape (3,4)"
     ]
    }
   ],
   "source": [
    "arr3= arr2.reshape(3,4)"
   ]
  },
  {
   "cell_type": "code",
   "execution_count": null,
   "id": "61fa1d1c",
   "metadata": {},
   "outputs": [],
   "source": []
  }
 ],
 "metadata": {
  "kernelspec": {
   "display_name": "Python 3",
   "language": "python",
   "name": "python3"
  },
  "language_info": {
   "codemirror_mode": {
    "name": "ipython",
    "version": 3
   },
   "file_extension": ".py",
   "mimetype": "text/x-python",
   "name": "python",
   "nbconvert_exporter": "python",
   "pygments_lexer": "ipython3",
   "version": "3.8.8"
  }
 },
 "nbformat": 4,
 "nbformat_minor": 5
}
